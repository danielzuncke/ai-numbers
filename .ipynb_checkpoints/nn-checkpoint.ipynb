{
 "cells": [
  {
   "cell_type": "code",
   "execution_count": 0,
   "metadata": {},
   "outputs": [],
   "source": [
    "# imports and stuff\n",
    "import numpy as np\n",
    "import pickle\n",
    "import scipy.special as sp\n",
    "import scipy.ndimage as spimg\n",
    "import matplotlib.pyplot as plt\n",
    "# %matplotlib inline # not necessary in vscode\n",
    "\n"
   ]
  },
  {
   "cell_type": "code",
   "execution_count": 0,
   "metadata": {},
   "outputs": [],
   "source": [
    "class neuralNetwork:\n",
    "    \"\"\"\n",
    "    Initialize neural network\\n\n",
    "        args: x(int), y(int), z(int), l(float)\\n\n",
    "        x: number of inputnodes\\n\n",
    "        y: number of hidden layers\\n\n",
    "        z: number of outputnodes\\n\n",
    "        l: learning rate\n",
    "    \"\"\"\n",
    "\n",
    "    def __init__(self, inputnodes, hiddennodes, outputnodes, learningrate):\n",
    "        # set number of nodes\n",
    "        self.inodes = inputnodes\n",
    "        self.hnodes = hiddennodes\n",
    "        self.onodes = outputnodes\n",
    "\n",
    "        # create weight matrizes; wih input to hidden, who hidden to output;\n",
    "        # w_i_j with node i connecting to node j in next layer;\n",
    "        # w11 w21\n",
    "        # w12 w22 ..\n",
    "        self.wih = np.random.normal(\n",
    "            0.0, pow(self.hnodes, -0.5), (self.hnodes, self.inodes))\n",
    "        self.who = np.random.normal(\n",
    "            0.0, pow(self.onodes, -0.5), (self.onodes, self.hnodes))\n",
    "\n",
    "        # set learning rate\n",
    "        self.lr = learningrate\n",
    "\n",
    "    def train(self, inputs_list, targets_list):\n",
    "        \"\"\"\n",
    "        Train neural network\\n\n",
    "            input_list: training examples\\n\n",
    "            targets_list: solutions to examples\n",
    "        \"\"\"\n",
    "        # input lists to 2d arrays\n",
    "        inputs = np.array(inputs_list, ndmin=2).T\n",
    "        targets = np.array(targets_list, ndmin=2).T\n",
    "\n",
    "        # calculate signals to and from hidden layer\n",
    "        hidden_inputs = np.dot(self.wih, inputs)\n",
    "        hidden_outputs = sp.expit(hidden_inputs)  # pylint: disable=E1101\n",
    "\n",
    "        # calculate signals to and from output layer\n",
    "        final_inputs = np.dot(self.who, hidden_outputs)\n",
    "        final_outputs = sp.expit(final_inputs)  # pylint: disable=E1101\n",
    "\n",
    "        # calculate error and hidden nodes error\n",
    "        output_errors = targets - final_outputs\n",
    "        hidden_errors = np.dot(self.who.T, output_errors)\n",
    "\n",
    "        # update weights for links between hidden and output layers\n",
    "        self.who += self.lr * \\\n",
    "            np.dot((output_errors * final_outputs * (1.0 - final_outputs)),\n",
    "                   np.transpose(hidden_outputs))\n",
    "\n",
    "        # update weights for links between input and hidden layers\n",
    "        self.wih += self.lr * \\\n",
    "            np.dot((hidden_errors * hidden_outputs *\n",
    "                    (1.0 - hidden_outputs)), np.transpose(inputs))\n",
    "\n",
    "    def query(self, inputs_list):\n",
    "        \"\"\"\n",
    "        Use the neural network\n",
    "        \"\"\"\n",
    "        # input list to 2d array\n",
    "        inputs = np.array(inputs_list, ndmin=2).T\n",
    "\n",
    "        # calculate signals to and from hidden layer\n",
    "        hidden_inputs = np.dot(self.wih, inputs)\n",
    "        hidden_outputs = sp.expit(hidden_inputs)  # pylint: disable=E1101\n",
    "\n",
    "        # calculate signals to and from final output layer\n",
    "        final_inputs = np.dot(self.who, hidden_outputs)\n",
    "        final_outputs = sp.expit(final_inputs)  # pylint: disable=E1101\n",
    "\n",
    "        return final_outputs\n",
    "\n"
   ]
  },
  {
   "cell_type": "code",
   "execution_count": 0,
   "metadata": {},
   "outputs": [],
   "source": [
    "# define specs of nn\n",
    "input_nodes = 784\n",
    "hidden_nodes = 200\n",
    "output_nodes = 10\n",
    "\n",
    "# nn learning rate\n",
    "learning_rate = 0.01\n",
    "\n"
   ]
  },
  {
   "cell_type": "code",
   "execution_count": 0,
   "metadata": {},
   "outputs": [],
   "source": [
    "# create instance of nn\n",
    "n = neuralNetwork(input_nodes, hidden_nodes, output_nodes, learning_rate)\n",
    "\n"
   ]
  },
  {
   "cell_type": "code",
   "execution_count": 0,
   "metadata": {},
   "outputs": [],
   "source": [
    "# load shortened mnist training dataset\n",
    "training_data_file = open('mnist_datasets/mnist_train_100.csv', 'r')\n",
    "training_data_list = training_data_file.readlines()\n",
    "training_data_file.close()\n",
    "\n"
   ]
  },
  {
   "cell_type": "code",
   "execution_count": 0,
   "metadata": {},
   "outputs": [],
   "source": [
    "# train nn\n",
    "# use training data 5 times\n",
    "epochs = 10\n",
    "for e in range(epochs):\n",
    "    print(f'epoch {e + 1}')\n",
    "    # cycle through training data\n",
    "    for record in training_data_list:\n",
    "        all_values = record.split(',')\n",
    "        inputs = (np.asfarray(all_values[1:]) / 256.0 * 0.99) + 0.01\n",
    "        targets = np.zeros(output_nodes) + 0.01\n",
    "        targets[int(all_values[0])] = 0.99\n",
    "        n.train(inputs, targets)\n",
    "\n",
    "        # train with rotated variations (1. anti- 2. clockwise)\n",
    "        inputs_plusx_img = spimg.interpolation.rotate(\n",
    "            inputs.reshape(28, 28), 10, cval=0.01, order=1, reshape=False)\n",
    "        n.train(inputs_plusx_img.reshape(784), targets)\n",
    "        inputs_minusx_img = spimg.interpolation.rotate(\n",
    "            inputs.reshape(28, 28), -10, cval=0.01, order=1, reshape=False)\n",
    "        n.train(inputs_minusx_img.reshape(784), targets)\n",
    "\n"
   ]
  },
  {
   "cell_type": "code",
   "execution_count": 0,
   "metadata": {},
   "outputs": [],
   "source": [
    "# load shortened mnist test dataset\n",
    "test_data_file = open('mnist_datasets/mnist_test_10.csv', 'r')\n",
    "test_data_list = test_data_file.readlines()\n",
    "test_data_file.close()\n",
    "\n"
   ]
  },
  {
   "cell_type": "code",
   "execution_count": 0,
   "metadata": {},
   "outputs": [],
   "source": [
    "# test nn\n",
    "# score\n",
    "score = []\n",
    "\n",
    "# cycle through test data\n",
    "for record in test_data_list:\n",
    "    all_values = record.split(',')\n",
    "    correct_label = int(all_values[0])\n",
    "    inputs = (np.asfarray(all_values[1:]) / 256.0 * 0.99) + 0.01\n",
    "    outputs = n.query(inputs)\n",
    "    label = np.argmax(outputs)\n",
    "    if (label == correct_label):\n",
    "        score.append(1)\n",
    "    else:\n",
    "        score.append(0)\n",
    "\n"
   ]
  },
  {
   "cell_type": "code",
   "execution_count": 0,
   "metadata": {},
   "outputs": [],
   "source": [
    "# show hit ratio\n",
    "score_array = np.asarray(score)\n",
    "print(f'performance: {score_array.sum() / score_array.size}')\n",
    "\n"
   ]
  },
  {
   "cell_type": "code",
   "execution_count": 0,
   "metadata": {},
   "outputs": [],
   "source": [
    "# save trained nn\n",
    "# with open('trained_nn.pickle', 'wb') as output:\n",
    "#    pickle.dump(n, output, pickle.HIGHEST_PROTOCOL)\n",
    "# ...\n",
    "\n"
   ]
  },
  {
   "cell_type": "code",
   "execution_count": 0,
   "metadata": {},
   "outputs": [],
   "source": [
    "# load trained nn\n",
    "# with open('trained_nn.pickle', 'rb') as input:\n",
    "#    n = pickle.load(input)\n",
    "# ...\n",
    "\n"
   ]
  },
  {
   "cell_type": "code",
   "execution_count": 0,
   "metadata": {},
   "outputs": [],
   "source": []
  }
 ],
 "metadata": {
  "file_extension": ".py",
  "kernelspec": {
   "display_name": "Python 3",
   "language": "python",
   "name": "python3"
  },
  "language_info": {
   "codemirror_mode": {
    "name": "ipython",
    "version": 3
   },
   "file_extension": ".py",
   "mimetype": "text/x-python",
   "name": "python",
   "nbconvert_exporter": "python",
   "pygments_lexer": "ipython3",
   "version": "3.7.3"
  },
  "mimetype": "text/x-python",
  "name": "python",
  "npconvert_exporter": "python",
  "pygments_lexer": "ipython3",
  "version": 3
 },
 "nbformat": 4,
 "nbformat_minor": 2
}
